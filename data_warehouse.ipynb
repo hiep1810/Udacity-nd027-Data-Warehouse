{
 "cells": [
  {
   "cell_type": "markdown",
   "metadata": {},
   "source": [
    "# Optional: Install required libraries"
   ]
  },
  {
   "cell_type": "code",
   "execution_count": 6,
   "metadata": {},
   "outputs": [
    {
     "name": "stdout",
     "output_type": "stream",
     "text": [
      "Requirement already satisfied: boto3 in c:\\users\\hiep\\appdata\\local\\programs\\python\\python38\\lib\\site-packages (1.28.20)Note: you may need to restart the kernel to use updated packages.\n",
      "\n",
      "Requirement already satisfied: psycopg2 in c:\\users\\hiep\\appdata\\local\\programs\\python\\python38\\lib\\site-packages (2.9.6)\n",
      "Requirement already satisfied: s3transfer<0.7.0,>=0.6.0 in c:\\users\\hiep\\appdata\\local\\programs\\python\\python38\\lib\\site-packages (from boto3) (0.6.1)\n",
      "Requirement already satisfied: botocore<1.32.0,>=1.31.20 in c:\\users\\hiep\\appdata\\local\\programs\\python\\python38\\lib\\site-packages (from boto3) (1.31.20)\n",
      "Requirement already satisfied: jmespath<2.0.0,>=0.7.1 in c:\\users\\hiep\\appdata\\local\\programs\\python\\python38\\lib\\site-packages (from boto3) (1.0.1)\n",
      "Requirement already satisfied: python-dateutil<3.0.0,>=2.1 in c:\\users\\hiep\\appdata\\local\\programs\\python\\python38\\lib\\site-packages (from botocore<1.32.0,>=1.31.20->boto3) (2.8.2)\n",
      "Requirement already satisfied: urllib3<1.27,>=1.25.4 in c:\\users\\hiep\\appdata\\local\\programs\\python\\python38\\lib\\site-packages (from botocore<1.32.0,>=1.31.20->boto3) (1.25.11)\n",
      "Requirement already satisfied: six>=1.5 in c:\\users\\hiep\\appdata\\local\\programs\\python\\python38\\lib\\site-packages (from python-dateutil<3.0.0,>=2.1->botocore<1.32.0,>=1.31.20->boto3) (1.16.0)\n"
     ]
    },
    {
     "name": "stderr",
     "output_type": "stream",
     "text": [
      "\n",
      "[notice] A new release of pip available: 22.3.1 -> 23.2.1\n",
      "[notice] To update, run: python.exe -m pip install --upgrade pip\n"
     ]
    }
   ],
   "source": [
    "pip install boto3 psycopg2"
   ]
  },
  {
   "attachments": {},
   "cell_type": "markdown",
   "metadata": {},
   "source": [
    "# Load DWH Params from a file"
   ]
  },
  {
   "cell_type": "code",
   "execution_count": 7,
   "metadata": {},
   "outputs": [
    {
     "data": {
      "text/html": [
       "<div>\n",
       "<style scoped>\n",
       "    .dataframe tbody tr th:only-of-type {\n",
       "        vertical-align: middle;\n",
       "    }\n",
       "\n",
       "    .dataframe tbody tr th {\n",
       "        vertical-align: top;\n",
       "    }\n",
       "\n",
       "    .dataframe thead th {\n",
       "        text-align: right;\n",
       "    }\n",
       "</style>\n",
       "<table border=\"1\" class=\"dataframe\">\n",
       "  <thead>\n",
       "    <tr style=\"text-align: right;\">\n",
       "      <th></th>\n",
       "      <th>Param</th>\n",
       "      <th>Value</th>\n",
       "    </tr>\n",
       "  </thead>\n",
       "  <tbody>\n",
       "    <tr>\n",
       "      <th>0</th>\n",
       "      <td>DWH_CLUSTER_TYPE</td>\n",
       "      <td>multi-node</td>\n",
       "    </tr>\n",
       "    <tr>\n",
       "      <th>1</th>\n",
       "      <td>DWH_NUM_NODES</td>\n",
       "      <td>4</td>\n",
       "    </tr>\n",
       "    <tr>\n",
       "      <th>2</th>\n",
       "      <td>DWH_NODE_TYPE</td>\n",
       "      <td>dc2.large</td>\n",
       "    </tr>\n",
       "    <tr>\n",
       "      <th>3</th>\n",
       "      <td>DWH_CLUSTER_IDENTIFIER</td>\n",
       "      <td>dwhCluster</td>\n",
       "    </tr>\n",
       "    <tr>\n",
       "      <th>4</th>\n",
       "      <td>CLUSTER_DB</td>\n",
       "      <td>dwh</td>\n",
       "    </tr>\n",
       "    <tr>\n",
       "      <th>5</th>\n",
       "      <td>CLUSTER_DB_USER</td>\n",
       "      <td>dwhuser</td>\n",
       "    </tr>\n",
       "    <tr>\n",
       "      <th>6</th>\n",
       "      <td>CLUSTER_DB_PASSWORD</td>\n",
       "      <td>Passw0rd</td>\n",
       "    </tr>\n",
       "    <tr>\n",
       "      <th>7</th>\n",
       "      <td>CLUSTER_PORT</td>\n",
       "      <td>5439</td>\n",
       "    </tr>\n",
       "    <tr>\n",
       "      <th>8</th>\n",
       "      <td>DWH_IAM_ROLE_NAME</td>\n",
       "      <td>dwhRole</td>\n",
       "    </tr>\n",
       "  </tbody>\n",
       "</table>\n",
       "</div>"
      ],
      "text/plain": [
       "                    Param       Value\n",
       "0        DWH_CLUSTER_TYPE  multi-node\n",
       "1           DWH_NUM_NODES           4\n",
       "2           DWH_NODE_TYPE   dc2.large\n",
       "3  DWH_CLUSTER_IDENTIFIER  dwhCluster\n",
       "4              CLUSTER_DB         dwh\n",
       "5         CLUSTER_DB_USER     dwhuser\n",
       "6     CLUSTER_DB_PASSWORD    Passw0rd\n",
       "7            CLUSTER_PORT        5439\n",
       "8       DWH_IAM_ROLE_NAME     dwhRole"
      ]
     },
     "execution_count": 7,
     "metadata": {},
     "output_type": "execute_result"
    }
   ],
   "source": [
    "import configparser\n",
    "import pandas as pd\n",
    "\n",
    "config = configparser.ConfigParser()\n",
    "config.read_file(open('dwh.cfg'))\n",
    "\n",
    "\n",
    "KEY                    = config.get('AWS','KEY')\n",
    "SECRET                 = config.get('AWS','SECRET')\n",
    "\n",
    "DWH_CLUSTER_TYPE       = config.get(\"DWH\",\"DWH_CLUSTER_TYPE\")\n",
    "DWH_NUM_NODES          = config.get(\"DWH\",\"DWH_NUM_NODES\")\n",
    "DWH_NODE_TYPE          = config.get(\"DWH\",\"DWH_NODE_TYPE\")\n",
    "DWH_REGION             = config.get(\"DWH\",\"DWH_REGION\")\n",
    "DWH_CLUSTER_IDENTIFIER = config.get(\"DWH\",\"DWH_CLUSTER_IDENTIFIER\")\n",
    "DWH_IAM_ROLE_NAME      = config.get(\"DWH\", \"DWH_IAM_ROLE_NAME\")\n",
    "\n",
    "CLUSTER_DB             = config.get(\"CLUSTER\",\"DB\")\n",
    "CLUSTER_DB_USER        = config.get(\"CLUSTER\",\"DB_USER\")\n",
    "CLUSTER_DB_PASSWORD    = config.get(\"CLUSTER\",\"DB_PASSWORD\")\n",
    "CLUSTER_PORT           = config.get(\"CLUSTER\",\"PORT\")\n",
    "\n",
    "\n",
    "pd.DataFrame({\"Param\":\n",
    "                  [\"DWH_CLUSTER_TYPE\", \"DWH_NUM_NODES\", \"DWH_NODE_TYPE\", \"DWH_CLUSTER_IDENTIFIER\", \"CLUSTER_DB\", \"CLUSTER_DB_USER\", \"CLUSTER_DB_PASSWORD\", \"CLUSTER_PORT\", \"DWH_IAM_ROLE_NAME\"],\n",
    "              \"Value\":\n",
    "                  [DWH_CLUSTER_TYPE, DWH_NUM_NODES, DWH_NODE_TYPE, DWH_CLUSTER_IDENTIFIER, CLUSTER_DB, CLUSTER_DB_USER, CLUSTER_DB_PASSWORD, CLUSTER_PORT, DWH_IAM_ROLE_NAME]\n",
    "             })"
   ]
  },
  {
   "attachments": {},
   "cell_type": "markdown",
   "metadata": {},
   "source": [
    "# Create clients for IAM, EC2, S3 and Redshift"
   ]
  },
  {
   "cell_type": "code",
   "execution_count": 8,
   "metadata": {},
   "outputs": [],
   "source": [
    "import boto3\n",
    "\n",
    "ec2 = boto3.resource('ec2',\n",
    "                       region_name=DWH_REGION,\n",
    "                       aws_access_key_id=KEY,\n",
    "                       aws_secret_access_key=SECRET\n",
    "                    )\n",
    "\n",
    "s3 = boto3.resource('s3',\n",
    "                       region_name=DWH_REGION,\n",
    "                       aws_access_key_id=KEY,\n",
    "                       aws_secret_access_key=SECRET\n",
    "                   )\n",
    "\n",
    "iam = boto3.client('iam',aws_access_key_id=KEY,\n",
    "                     aws_secret_access_key=SECRET,\n",
    "                     region_name='us-west-2'\n",
    "                  )\n",
    "\n",
    "redshift = boto3.client('redshift',\n",
    "                       region_name=DWH_REGION,\n",
    "                       aws_access_key_id=KEY,\n",
    "                       aws_secret_access_key=SECRET\n",
    "                       )"
   ]
  },
  {
   "attachments": {},
   "cell_type": "markdown",
   "metadata": {},
   "source": [
    "# **STEP 1: IAM ROLE**\n",
    "\n",
    "- Create an IAM Role that makes Redshift able to access S3 bucket (ReadOnly)"
   ]
  },
  {
   "cell_type": "code",
   "execution_count": 9,
   "metadata": {},
   "outputs": [
    {
     "name": "stdout",
     "output_type": "stream",
     "text": [
      "1.1 Creating a new IAM Role\n",
      "1.2 Attaching Policy\n",
      "1.3 Get the IAM role ARN\n",
      "arn:aws:iam::984642280787:role/dwhRole\n"
     ]
    }
   ],
   "source": [
    "from botocore.exceptions import ClientError\n",
    "import json\n",
    "\n",
    "#1.1 Create the role, \n",
    "try:\n",
    "    print(\"1.1 Creating a new IAM Role\") \n",
    "    dwhRole = iam.create_role(\n",
    "        Path='/',\n",
    "        RoleName=DWH_IAM_ROLE_NAME,\n",
    "        Description = \"Allows Redshift clusters to call AWS services on your behalf.\",\n",
    "        AssumeRolePolicyDocument=json.dumps(\n",
    "            {'Statement': [{'Action': 'sts:AssumeRole',\n",
    "               'Effect': 'Allow',\n",
    "               'Principal': {'Service': 'redshift.amazonaws.com'}}],\n",
    "             'Version': '2012-10-17'})\n",
    "    )    \n",
    "except Exception as e:\n",
    "    print(e)\n",
    "    \n",
    "    \n",
    "print(\"1.2 Attaching Policy\")\n",
    "\n",
    "iam.attach_role_policy(RoleName=DWH_IAM_ROLE_NAME,\n",
    "                       PolicyArn=\"arn:aws:iam::aws:policy/AmazonS3ReadOnlyAccess\"\n",
    "                      )['ResponseMetadata']['HTTPStatusCode']\n",
    "\n",
    "print(\"1.3 Get the IAM role ARN\")\n",
    "roleArn = iam.get_role(RoleName=DWH_IAM_ROLE_NAME)['Role']['Arn']\n",
    "\n",
    "print(roleArn)"
   ]
  },
  {
   "attachments": {},
   "cell_type": "markdown",
   "metadata": {},
   "source": [
    "# **STEP 2: Redshift Cluster**\n",
    "\n",
    "- Create a [RedShift Cluster](https://console.aws.amazon.com/redshiftv2/home)\n",
    "- For complete arguments to `create_cluster`, see [docs](https://boto3.amazonaws.com/v1/documentation/api/latest/reference/services/redshift.html#Redshift.Client.create_cluster)"
   ]
  },
  {
   "cell_type": "code",
   "execution_count": 10,
   "metadata": {},
   "outputs": [],
   "source": [
    "try:\n",
    "    response = redshift.create_cluster(        \n",
    "        #HW\n",
    "        ClusterType=DWH_CLUSTER_TYPE,\n",
    "        NodeType=DWH_NODE_TYPE,\n",
    "        NumberOfNodes=int(DWH_NUM_NODES),\n",
    "\n",
    "        #Identifiers & Credentials\n",
    "        DBName=CLUSTER_DB,\n",
    "        ClusterIdentifier=DWH_CLUSTER_IDENTIFIER,\n",
    "        MasterUsername=CLUSTER_DB_USER,\n",
    "        MasterUserPassword=CLUSTER_DB_PASSWORD,\n",
    "        \n",
    "        #Roles (for s3 access)\n",
    "        IamRoles=[roleArn]  \n",
    "    )\n",
    "except Exception as e:\n",
    "    print(e)"
   ]
  },
  {
   "attachments": {},
   "cell_type": "markdown",
   "metadata": {},
   "source": [
    "# Describe the cluster to see its status\n",
    "- run this block and wait until the cluster status becomes Available"
   ]
  },
  {
   "cell_type": "code",
   "execution_count": 11,
   "metadata": {},
   "outputs": [
    {
     "name": "stdout",
     "output_type": "stream",
     "text": [
      "Redshift is not yet available. Retrying in 30 seconds...\n",
      "Redshift is not yet available. Retrying in 30 seconds...\n",
      "Redshift is not yet available. Retrying in 30 seconds...\n",
      "Redshift is not yet available. Retrying in 30 seconds...\n",
      "Redshift is not yet available. Retrying in 30 seconds...\n",
      "Redshift is not yet available. Retrying in 30 seconds...\n",
      "Redshift is not yet available. Retrying in 30 seconds...\n",
      "Redshift is available!\n"
     ]
    },
    {
     "data": {
      "text/html": [
       "<div>\n",
       "<style scoped>\n",
       "    .dataframe tbody tr th:only-of-type {\n",
       "        vertical-align: middle;\n",
       "    }\n",
       "\n",
       "    .dataframe tbody tr th {\n",
       "        vertical-align: top;\n",
       "    }\n",
       "\n",
       "    .dataframe thead th {\n",
       "        text-align: right;\n",
       "    }\n",
       "</style>\n",
       "<table border=\"1\" class=\"dataframe\">\n",
       "  <thead>\n",
       "    <tr style=\"text-align: right;\">\n",
       "      <th></th>\n",
       "      <th>Key</th>\n",
       "      <th>Value</th>\n",
       "    </tr>\n",
       "  </thead>\n",
       "  <tbody>\n",
       "    <tr>\n",
       "      <th>0</th>\n",
       "      <td>ClusterIdentifier</td>\n",
       "      <td>dwhcluster</td>\n",
       "    </tr>\n",
       "    <tr>\n",
       "      <th>1</th>\n",
       "      <td>NodeType</td>\n",
       "      <td>dc2.large</td>\n",
       "    </tr>\n",
       "    <tr>\n",
       "      <th>2</th>\n",
       "      <td>ClusterStatus</td>\n",
       "      <td>available</td>\n",
       "    </tr>\n",
       "    <tr>\n",
       "      <th>3</th>\n",
       "      <td>MasterUsername</td>\n",
       "      <td>dwhuser</td>\n",
       "    </tr>\n",
       "    <tr>\n",
       "      <th>4</th>\n",
       "      <td>DBName</td>\n",
       "      <td>dwh</td>\n",
       "    </tr>\n",
       "    <tr>\n",
       "      <th>5</th>\n",
       "      <td>Endpoint</td>\n",
       "      <td>{'Address': 'dwhcluster.cmubyhpduf4v.us-west-2.redshift.amazonaws.com', 'Port': 5439}</td>\n",
       "    </tr>\n",
       "    <tr>\n",
       "      <th>6</th>\n",
       "      <td>VpcId</td>\n",
       "      <td>vpc-0efbc6e38b4708c29</td>\n",
       "    </tr>\n",
       "    <tr>\n",
       "      <th>7</th>\n",
       "      <td>NumberOfNodes</td>\n",
       "      <td>4</td>\n",
       "    </tr>\n",
       "  </tbody>\n",
       "</table>\n",
       "</div>"
      ],
      "text/plain": [
       "                 Key  \\\n",
       "0  ClusterIdentifier   \n",
       "1           NodeType   \n",
       "2      ClusterStatus   \n",
       "3     MasterUsername   \n",
       "4             DBName   \n",
       "5           Endpoint   \n",
       "6              VpcId   \n",
       "7      NumberOfNodes   \n",
       "\n",
       "                                                                                   Value  \n",
       "0                                                                             dwhcluster  \n",
       "1                                                                              dc2.large  \n",
       "2                                                                              available  \n",
       "3                                                                                dwhuser  \n",
       "4                                                                                    dwh  \n",
       "5  {'Address': 'dwhcluster.cmubyhpduf4v.us-west-2.redshift.amazonaws.com', 'Port': 5439}  \n",
       "6                                                                  vpc-0efbc6e38b4708c29  \n",
       "7                                                                                      4  "
      ]
     },
     "execution_count": 11,
     "metadata": {},
     "output_type": "execute_result"
    }
   ],
   "source": [
    "import time\n",
    "\n",
    "def prettyRedshiftProps(props):\n",
    "    pd.set_option('display.max_colwidth', None)\n",
    "    keysToShow = [\"ClusterIdentifier\", \"NodeType\", \"ClusterStatus\", \"MasterUsername\", \"DBName\", \"Endpoint\", \"NumberOfNodes\", 'VpcId']\n",
    "    x = [(k, v) for k,v in props.items() if k in keysToShow]\n",
    "    return pd.DataFrame(data=x, columns=[\"Key\", \"Value\"])\n",
    "\n",
    "\n",
    "# Define the interval in seconds between each status check\n",
    "interval = 30\n",
    "\n",
    "\n",
    "myClusterProps = redshift.describe_clusters(ClusterIdentifier=DWH_CLUSTER_IDENTIFIER)['Clusters'][0]\n",
    "\n",
    "# Use a while loop to call Redshift and check its status\n",
    "while True:\n",
    "    # Extract the ClusterStatus attribute from the response dictionary\n",
    "    # cluster_status = [v for k,v in myClusterProps.items() if k == 'ClusterStatus'][0]\n",
    "    cluster_status = myClusterProps.get('ClusterStatus')\n",
    "\n",
    "    if cluster_status != 'available':\n",
    "    # If status not available, print a message and wait for the specified interval\n",
    "        print('Redshift is not yet available. Retrying in {} seconds...'.format(interval))\n",
    "        time.sleep(interval)\n",
    "    else:\n",
    "    # If status is available, print status and break out of the loop\n",
    "        print('Redshift is available!')\n",
    "        break\n",
    "    \n",
    "    myClusterProps = redshift.describe_clusters(ClusterIdentifier=DWH_CLUSTER_IDENTIFIER)['Clusters'][0]\n",
    "\n",
    "prettyRedshiftProps(myClusterProps)"
   ]
  },
  {
   "attachments": {},
   "cell_type": "markdown",
   "metadata": {},
   "source": [
    "# Take note of the cluster endpoint and role ARN \n",
    "<font color='red'>DO NOT RUN THIS unless the cluster status becomes \"Available\". </font>"
   ]
  },
  {
   "cell_type": "code",
   "execution_count": 12,
   "metadata": {},
   "outputs": [
    {
     "name": "stdout",
     "output_type": "stream",
     "text": [
      "CLUSTER_HOST ::  dwhcluster.cmubyhpduf4v.us-west-2.redshift.amazonaws.com\n",
      "IAM_ROLE_ARN ::  arn:aws:iam::984642280787:role/dwhRole\n"
     ]
    }
   ],
   "source": [
    "CLUSTER_HOST = myClusterProps['Endpoint']['Address']\n",
    "IAM_ROLE_ARN = myClusterProps['IamRoles'][0]['IamRoleArn']\n",
    "\n",
    "#Set the value to cfg file\n",
    "config.set(\"CLUSTER\", \"HOST\", CLUSTER_HOST)\n",
    "config.set(\"IAM_ROLE\", \"ARN\", IAM_ROLE_ARN)\n",
    "\n",
    "# Save the updated configuration to the file\n",
    "with open('dwh.cfg', 'w') as config_file:\n",
    "    config.write(config_file)\n",
    "\n",
    "print(\"CLUSTER_HOST :: \", CLUSTER_HOST)\n",
    "print(\"IAM_ROLE_ARN :: \", IAM_ROLE_ARN)"
   ]
  },
  {
   "attachments": {},
   "cell_type": "markdown",
   "metadata": {},
   "source": [
    "# **STEP 3: Open an incoming  TCP port to access the cluster ednpoint**"
   ]
  },
  {
   "cell_type": "code",
   "execution_count": 14,
   "metadata": {},
   "outputs": [
    {
     "name": "stdout",
     "output_type": "stream",
     "text": [
      "ec2.SecurityGroup(id='sg-0a4a18ff60208917b')\n",
      "An error occurred (InvalidPermission.Duplicate) when calling the AuthorizeSecurityGroupIngress operation: the specified rule \"peer: 0.0.0.0/0, TCP, from port: 5439, to port: 5439, ALLOW\" already exists\n"
     ]
    }
   ],
   "source": [
    "try:\n",
    "    vpc = ec2.Vpc(id=myClusterProps['VpcId'])\n",
    "    defaultSg = list(vpc.security_groups.all())[0]\n",
    "    print(defaultSg)\n",
    "    defaultSg.authorize_ingress(\n",
    "        GroupName=defaultSg.group_name,\n",
    "        CidrIp='0.0.0.0/0',\n",
    "        IpProtocol='TCP',\n",
    "        FromPort=int(CLUSTER_PORT),\n",
    "        ToPort=int(CLUSTER_PORT)\n",
    "    )\n",
    "except Exception as e:\n",
    "    print(e)"
   ]
  },
  {
   "cell_type": "markdown",
   "metadata": {},
   "source": [
    "# **Schema for SongPlay Analysis**"
   ]
  },
  {
   "attachments": {
    "image.png": {
     "image/png": "[encoded data removed]"
    }
   },
   "cell_type": "markdown",
   "metadata": {},
   "source": [
    "\n",
    "![image.png](attachment:image.png)\n"
   ]
  },
  {
   "cell_type": "markdown",
   "metadata": {},
   "source": [
    "# Run below code to drop and recreate tables"
   ]
  },
  {
   "cell_type": "code",
   "execution_count": 15,
   "metadata": {},
   "outputs": [],
   "source": [
    "%run create_tables.py"
   ]
  },
  {
   "cell_type": "markdown",
   "metadata": {},
   "source": [
    "# Run below code to create ETL pipeline"
   ]
  },
  {
   "cell_type": "code",
   "execution_count": 16,
   "metadata": {},
   "outputs": [
    {
     "name": "stdout",
     "output_type": "stream",
     "text": [
      "loading: \n",
      "copy stage_events from 's3://udacity-dend/log_data'\n",
      "    credentials 'aws_iam_role=arn:aws:iam::984642280787:role/dwhRole'\n",
      "    region      'us-west-2'\n",
      "    format       as JSON 's3://udacity-dend/log_json_path.json'\n",
      "    timeformat   as 'epochmillisecs'\n",
      "\n",
      "loading: \n",
      "    copy stage_songs from 's3://udacity-dend/song_data'\n",
      "    credentials  'aws_iam_role=arn:aws:iam::984642280787:role/dwhRole'\n",
      "    region       'us-west-2'\n",
      "    format        as JSON 'auto'\n",
      "\n",
      "inserting: \n",
      "    INSERT INTO songplays (start_time, user_id, level, song_id, artist_id, session_id, location, user_agent) SELECT\n",
      "        TIMESTAMP 'epoch' + (e.ts/1000 * INTERVAL '1 second'),\n",
      "        e.user_id,\n",
      "        e.level,\n",
      "        s.song_id,\n",
      "        s.artist_id,\n",
      "        e.session_id,\n",
      "        e.location,\n",
      "        e.user_agent\n",
      "    FROM stage_events e\n",
      "    JOIN stage_songs s ON\n",
      "        e.song = s.title AND\n",
      "        e.artist = s.artist_name AND\n",
      "        e.page = 'NextSong'\n",
      "\n",
      "inserting: \n",
      "    INSERT INTO users SELECT DISTINCT (user_id)\n",
      "        user_id,\n",
      "        first_name,\n",
      "        last_name,\n",
      "        gender,\n",
      "        level\n",
      "    FROM stage_events\n",
      "\n",
      "inserting: \n",
      "    INSERT INTO songs SELECT DISTINCT (song_id)\n",
      "        song_id,\n",
      "        title,\n",
      "        artist_id,\n",
      "        year,\n",
      "        duration\n",
      "    FROM stage_songs\n",
      "\n",
      "inserting: \n",
      "    INSERT INTO artists SELECT DISTINCT (artist_id)\n",
      "        artist_id,\n",
      "        artist_name,\n",
      "        artist_location,\n",
      "        artist_latitude,\n",
      "        artist_longitude\n",
      "    FROM stage_songs\n",
      "\n",
      "inserting: \n",
      "    INSERT INTO time\n",
      "        WITH temp_time AS (SELECT TIMESTAMP 'epoch' + (ts/1000 * INTERVAL '1 second') as ts FROM stage_events)\n",
      "        SELECT DISTINCT\n",
      "        ts,\n",
      "        extract(hour from ts),\n",
      "        extract(day from ts),\n",
      "        extract(week from ts),\n",
      "        extract(month from ts),\n",
      "        extract(year from ts),\n",
      "        extract(weekday from ts)\n",
      "        FROM temp_time\n",
      "\n"
     ]
    }
   ],
   "source": [
    "%run etl.py"
   ]
  },
  {
   "cell_type": "markdown",
   "metadata": {},
   "source": [
    "# Example queries: What are the top 10 most played songs in 2018?"
   ]
  },
  {
   "cell_type": "code",
   "execution_count": 25,
   "metadata": {},
   "outputs": [
    {
     "name": "stdout",
     "output_type": "stream",
     "text": [
      "+------------------------------------------------------+--------------------------------+------------+\n",
      "|                        title                         |          artist name           | play_count |\n",
      "+------------------------------------------------------+--------------------------------+------------+\n",
      "|                    You're The One                    |         Dwight Yoakam          |     37     |\n",
      "| Catch You Baby (Steve Pitron & Max Sanna Radio Edit) |         Lonnie Gordon          |     9      |\n",
      "|                 I CAN'T GET STARTED                  |           Ron Carter           |     9      |\n",
      "|  Nothin' On You [feat. Bruno Mars] (Album Version)   |             B.o.B              |     8      |\n",
      "|               Hey Daddy (Daddy's Home)               | Usher featuring Jermaine Dupri |     6      |\n",
      "|               Hey Daddy (Daddy's Home)               |             Usher              |     6      |\n",
      "|                     Up Up & Away                     |            Kid Cudi            |     5      |\n",
      "|                     Make Her Say                     | Kid Cudi / Kanye West / Common |     5      |\n",
      "|                     Up Up & Away                     | Kid Cudi / Kanye West / Common |     5      |\n",
      "|                     Make Her Say                     |            Kid Cudi            |     5      |\n",
      "+------------------------------------------------------+--------------------------------+------------+\n"
     ]
    }
   ],
   "source": [
    "import psycopg2\n",
    "from prettytable import PrettyTable\n",
    "\n",
    "# Establish a connection to the PostgreSQL database\n",
    "conn = psycopg2.connect(\"host={} dbname={} user={} password={} port={}\".format(*config['CLUSTER'].values()))\n",
    "\n",
    "\n",
    "# Create a cursor object to interact with the database\n",
    "cur = conn.cursor()\n",
    "\n",
    "# Execute the SELECT query\n",
    "query = \"\"\"\n",
    "SELECT songs.title, artists.name as \"artist name\", COUNT(*) AS play_count\n",
    "FROM songplays\n",
    "JOIN songs ON songplays.song_id = songs.song_id\n",
    "JOIN artists ON songplays.artist_id = artists.artist_id\n",
    "JOIN time ON songplays.start_time = time.start_time\n",
    "WHERE time.year = 2018\n",
    "GROUP BY songs.title, artists.name\n",
    "ORDER BY play_count DESC\n",
    "LIMIT 10;\n",
    "\"\"\"\n",
    "cur.execute(query)\n",
    "\n",
    "# Fetch all the results from the query\n",
    "results = cur.fetchall()\n",
    "\n",
    "# Create a pretty table object\n",
    "table = PrettyTable()\n",
    "\n",
    "# Get the column names\n",
    "column_names = [desc[0] for desc in cur.description]\n",
    "\n",
    "# Set the column names as table headers\n",
    "table.field_names = column_names\n",
    "\n",
    "# Add rows to the table\n",
    "for row in results:\n",
    "    table.add_row(row)\n",
    "\n",
    "# Print the table\n",
    "print(table)\n",
    "\n",
    "# Close the cursor and the database connection\n",
    "cur.close()\n",
    "conn.close()"
   ]
  },
  {
   "attachments": {},
   "cell_type": "markdown",
   "metadata": {},
   "source": [
    "# **STEP 99: Clean up your resources**\n",
    "DO NOT RUN THIS UNLESS YOU ARE SURE\n",
    "We will be using these resources in the next exercises"
   ]
  },
  {
   "cell_type": "code",
   "execution_count": 26,
   "metadata": {},
   "outputs": [
    {
     "data": {
      "text/plain": [
       "{'Cluster': {'ClusterIdentifier': 'dwhcluster',\n",
       "  'NodeType': 'dc2.large',\n",
       "  'ClusterStatus': 'deleting',\n",
       "  'ClusterAvailabilityStatus': 'Modifying',\n",
       "  'MasterUsername': 'dwhuser',\n",
       "  'DBName': 'dwh',\n",
       "  'Endpoint': {'Address': 'dwhcluster.cmubyhpduf4v.us-west-2.redshift.amazonaws.com',\n",
       "   'Port': 5439},\n",
       "  'ClusterCreateTime': datetime.datetime(2023, 8, 12, 13, 42, 4, 632000, tzinfo=tzutc()),\n",
       "  'AutomatedSnapshotRetentionPeriod': 1,\n",
       "  'ManualSnapshotRetentionPeriod': -1,\n",
       "  'ClusterSecurityGroups': [],\n",
       "  'VpcSecurityGroups': [{'VpcSecurityGroupId': 'sg-0a4a18ff60208917b',\n",
       "    'Status': 'active'}],\n",
       "  'ClusterParameterGroups': [{'ParameterGroupName': 'default.redshift-1.0',\n",
       "    'ParameterApplyStatus': 'in-sync'}],\n",
       "  'ClusterSubnetGroupName': 'default',\n",
       "  'VpcId': 'vpc-0efbc6e38b4708c29',\n",
       "  'AvailabilityZone': 'us-west-2d',\n",
       "  'PreferredMaintenanceWindow': 'wed:12:30-wed:13:00',\n",
       "  'PendingModifiedValues': {},\n",
       "  'ClusterVersion': '1.0',\n",
       "  'AllowVersionUpgrade': True,\n",
       "  'NumberOfNodes': 4,\n",
       "  'PubliclyAccessible': True,\n",
       "  'Encrypted': False,\n",
       "  'Tags': [],\n",
       "  'EnhancedVpcRouting': False,\n",
       "  'IamRoles': [{'IamRoleArn': 'arn:aws:iam::984642280787:role/dwhRole',\n",
       "    'ApplyStatus': 'in-sync'}],\n",
       "  'MaintenanceTrackName': 'current',\n",
       "  'DeferredMaintenanceWindows': [],\n",
       "  'NextMaintenanceWindowStartTime': datetime.datetime(2023, 8, 16, 12, 30, tzinfo=tzutc()),\n",
       "  'TotalStorageCapacityInMegaBytes': 1600000,\n",
       "  'AquaConfiguration': {'AquaStatus': 'disabled',\n",
       "   'AquaConfigurationStatus': 'auto'}},\n",
       " 'ResponseMetadata': {'RequestId': '6366a5bf-2dec-4734-9b20-99dddd64189b',\n",
       "  'HTTPStatusCode': 200,\n",
       "  'HTTPHeaders': {'x-amzn-requestid': '6366a5bf-2dec-4734-9b20-99dddd64189b',\n",
       "   'content-type': 'text/xml',\n",
       "   'content-length': '2712',\n",
       "   'date': 'Sat, 12 Aug 2023 13:56:17 GMT'},\n",
       "  'RetryAttempts': 0}}"
      ]
     },
     "execution_count": 26,
     "metadata": {},
     "output_type": "execute_result"
    }
   ],
   "source": [
    "#### CAREFUL!!\n",
    "#-- Uncomment & run to delete the created resources\n",
    "redshift.delete_cluster( ClusterIdentifier=DWH_CLUSTER_IDENTIFIER,  SkipFinalClusterSnapshot=True)\n",
    "#### CAREFUL!!"
   ]
  },
  {
   "attachments": {},
   "cell_type": "markdown",
   "metadata": {},
   "source": [
    "- run this block and wait until the cluster really deleted"
   ]
  },
  {
   "cell_type": "code",
   "execution_count": 27,
   "metadata": {},
   "outputs": [
    {
     "name": "stdout",
     "output_type": "stream",
     "text": [
      "Redshift is not deleted yet. Retrying in 30 seconds...\n",
      "Redshift is not deleted yet. Retrying in 30 seconds...\n",
      "An error occurred (ClusterNotFound) when calling the DescribeClusters operation: Cluster dwhcluster not found.\n"
     ]
    }
   ],
   "source": [
    "# Define the interval in seconds between each status check\n",
    "interval = 30\n",
    "\n",
    "# Use a while loop to call Redshift and check its status\n",
    "while True:\n",
    "    try:\n",
    "        myClusterProps = redshift.describe_clusters(ClusterIdentifier=DWH_CLUSTER_IDENTIFIER)['Clusters'][0]\n",
    "\n",
    "        # Extract the ClusterStatus attribute from the response dictionary\n",
    "        cluster_status = [v for k,v in myClusterProps.items() if k == 'ClusterStatus'][0]\n",
    "\n",
    "        if cluster_status == 'deleting':\n",
    "        # If status is deleting, print a message and wait for the specified interval\n",
    "            print('Redshift is not deleted yet. Retrying in {} seconds...'.format(interval))\n",
    "            time.sleep(interval)\n",
    "    except Exception as e:\n",
    "        print(e)\n",
    "        break\n",
    "\n"
   ]
  },
  {
   "cell_type": "code",
   "execution_count": 28,
   "metadata": {},
   "outputs": [
    {
     "data": {
      "text/plain": [
       "{'ResponseMetadata': {'RequestId': 'e2535a2f-e15a-46a5-ba37-fcca36756e38',\n",
       "  'HTTPStatusCode': 200,\n",
       "  'HTTPHeaders': {'x-amzn-requestid': 'e2535a2f-e15a-46a5-ba37-fcca36756e38',\n",
       "   'content-type': 'text/xml',\n",
       "   'content-length': '200',\n",
       "   'date': 'Sat, 12 Aug 2023 13:57:28 GMT'},\n",
       "  'RetryAttempts': 0}}"
      ]
     },
     "execution_count": 28,
     "metadata": {},
     "output_type": "execute_result"
    }
   ],
   "source": [
    "#### CAREFUL!!\n",
    "#-- Uncomment & run to delete the created resources\n",
    "iam.detach_role_policy(RoleName=DWH_IAM_ROLE_NAME, PolicyArn=\"arn:aws:iam::aws:policy/AmazonS3ReadOnlyAccess\")\n",
    "iam.delete_role(RoleName=DWH_IAM_ROLE_NAME)\n",
    "#### CAREFUL!!"
   ]
  }
 ],
 "metadata": {
  "kernelspec": {
   "display_name": "Python 3",
   "language": "python",
   "name": "python3"
  },
  "language_info": {
   "codemirror_mode": {
    "name": "ipython",
    "version": 3
   },
   "file_extension": ".py",
   "mimetype": "text/x-python",
   "name": "python",
   "nbconvert_exporter": "python",
   "pygments_lexer": "ipython3",
   "version": "3.8.0"
  },
  "orig_nbformat": 4
 },
 "nbformat": 4,
 "nbformat_minor": 2
}
